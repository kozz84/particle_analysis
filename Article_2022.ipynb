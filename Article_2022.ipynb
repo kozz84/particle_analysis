{
  "nbformat": 4,
  "nbformat_minor": 0,
  "metadata": {
    "colab": {
      "provenance": [],
      "authorship_tag": "ABX9TyOWVn08Ozvv81Jz3UsI3Ju1",
      "include_colab_link": true
    },
    "kernelspec": {
      "name": "python3",
      "display_name": "Python 3"
    },
    "language_info": {
      "name": "python"
    }
  },
  "cells": [
    {
      "cell_type": "markdown",
      "metadata": {
        "id": "view-in-github",
        "colab_type": "text"
      },
      "source": [
        "<a href=\"https://colab.research.google.com/github/kozz84/particle_analysis/blob/main/Article_2022.ipynb\" target=\"_parent\"><img src=\"https://colab.research.google.com/assets/colab-badge.svg\" alt=\"Open In Colab\"/></a>"
      ]
    },
    {
      "cell_type": "code",
      "execution_count": 1,
      "metadata": {
        "colab": {
          "base_uri": "https://localhost:8080/"
        },
        "id": "OuYehWeyoqGN",
        "outputId": "5e4159a6-479e-456b-e599-1a8d01435507"
      },
      "outputs": [
        {
          "output_type": "stream",
          "name": "stdout",
          "text": [
            "Mounted at /content/drive\n"
          ]
        }
      ],
      "source": [
        "from google.colab import drive\n",
        "drive.mount('/content/drive')\n",
        "import scipy\n",
        "import glob, os\n",
        "import numpy as np\n",
        "import matplotlib.pyplot as plt\n",
        "import matplotlib.image\n",
        "import pandas as pd\n",
        "import seaborn as sns\n",
        "import scipy.stats\n",
        "from skimage import io,morphology\n",
        "from skimage.restoration import (denoise_tv_chambolle, denoise_bilateral,\n",
        "                                 denoise_wavelet, estimate_sigma)\n",
        "from skimage.segmentation import clear_border\n",
        "from skimage.measure import label, regionprops, regionprops_table,perimeter\n",
        "from skimage.color import label2rgb"
      ]
    },
    {
      "cell_type": "code",
      "source": [
        "df = pd.read_csv(\"/content/drive/MyDrive/CIOP/images/df.csv\")"
      ],
      "metadata": {
        "id": "F55QwSgrovo9"
      },
      "execution_count": 2,
      "outputs": []
    },
    {
      "cell_type": "code",
      "source": [
        "df.head()"
      ],
      "metadata": {
        "colab": {
          "base_uri": "https://localhost:8080/",
          "height": 612
        },
        "id": "b_Bt4kQYo-vH",
        "outputId": "284b58c3-5192-40b6-9017-ce0e1e65889b"
      },
      "execution_count": 3,
      "outputs": [
        {
          "output_type": "execute_result",
          "data": {
            "text/plain": [
              "   mean_intensity         area    extent  eccentricity  convex_area  \\\n",
              "0       44.255319   578.356287  0.380567      0.775433   892.145337   \n",
              "1       13.791667   295.330870  0.500000      0.811877   393.774493   \n",
              "2       16.066667   276.872691  0.441176      0.951442   430.690852   \n",
              "3       34.584337  1021.352592  0.399038      0.834056  1839.665212   \n",
              "4       15.392857   344.552682  0.388889      0.870760   584.509014   \n",
              "\n",
              "   equivalent_diameter  major_axis_length  minor_axis_length   perimeter  \\\n",
              "0            27.136435          40.826682          25.779193  125.667879   \n",
              "1            19.391414          28.140599          16.429302   84.262928   \n",
              "2            18.775656          40.863839          12.579055   83.059202   \n",
              "3            36.061427          63.447555          35.002771  232.166887   \n",
              "4            20.945121          36.982017          18.184369  107.526452   \n",
              "\n",
              "   feret_diameter_max  ...                                       convex_image  \\\n",
              "0           50.225669  ...  [[False False  True False False False False Fa...   \n",
              "1           31.375727  ...  [[False False False False False False False Fa...   \n",
              "2           42.240865  ...  [[False False False False  True  True  True  T...   \n",
              "3           66.187168  ...  [[False False False False False False False Fa...   \n",
              "4           39.996361  ...  [[False False False False False False  True  T...   \n",
              "\n",
              "                                                 img convex_perimeter  \\\n",
              "0  [array([[ 96,  97,  99,  95,  85,  93,  84,  8...       125.491598   \n",
              "1  [array([[111, 113, 106, 111, 114, 105,  89, 10...        74.766633   \n",
              "2  [array([[ 81,  83,  98,  93, 117, 114, 105,  9...        83.059202   \n",
              "3  [array([[101, 109, 100,  95, 109, 116, 116, 11...       175.189118   \n",
              "4  [array([[109, 109, 117, 110, 109,  98, 108, 11...        93.759223   \n",
              "\n",
              "   circularity  aspect_ratio  solidity  convexity  \\\n",
              "0     0.678388      0.631430  0.648276   0.998597   \n",
              "1     0.722974      0.583829  0.750000   0.887302   \n",
              "2     0.710162      0.307829  0.642857   1.000000   \n",
              "3     0.487969      0.551680  0.555184   0.754583   \n",
              "4     0.611952      0.491708  0.589474   0.871964   \n",
              "\n",
              "                       filename area_fraction  label  \n",
              "0  210902_#1_50_10_1um_i004.tif    516.940327      0  \n",
              "1  210902_#1_50_10_1um_i004.tif    263.969529      0  \n",
              "2  210902_#1_50_10_1um_i004.tif    247.471433      0  \n",
              "3  210902_#1_50_10_1um_i004.tif    912.894621      0  \n",
              "4  210902_#1_50_10_1um_i004.tif    307.964450      0  \n",
              "\n",
              "[5 rows x 21 columns]"
            ],
            "text/html": [
              "\n",
              "  <div id=\"df-c6abebc3-3cd7-49fc-9a8b-fe653ec715fe\">\n",
              "    <div class=\"colab-df-container\">\n",
              "      <div>\n",
              "<style scoped>\n",
              "    .dataframe tbody tr th:only-of-type {\n",
              "        vertical-align: middle;\n",
              "    }\n",
              "\n",
              "    .dataframe tbody tr th {\n",
              "        vertical-align: top;\n",
              "    }\n",
              "\n",
              "    .dataframe thead th {\n",
              "        text-align: right;\n",
              "    }\n",
              "</style>\n",
              "<table border=\"1\" class=\"dataframe\">\n",
              "  <thead>\n",
              "    <tr style=\"text-align: right;\">\n",
              "      <th></th>\n",
              "      <th>mean_intensity</th>\n",
              "      <th>area</th>\n",
              "      <th>extent</th>\n",
              "      <th>eccentricity</th>\n",
              "      <th>convex_area</th>\n",
              "      <th>equivalent_diameter</th>\n",
              "      <th>major_axis_length</th>\n",
              "      <th>minor_axis_length</th>\n",
              "      <th>perimeter</th>\n",
              "      <th>feret_diameter_max</th>\n",
              "      <th>...</th>\n",
              "      <th>convex_image</th>\n",
              "      <th>img</th>\n",
              "      <th>convex_perimeter</th>\n",
              "      <th>circularity</th>\n",
              "      <th>aspect_ratio</th>\n",
              "      <th>solidity</th>\n",
              "      <th>convexity</th>\n",
              "      <th>filename</th>\n",
              "      <th>area_fraction</th>\n",
              "      <th>label</th>\n",
              "    </tr>\n",
              "  </thead>\n",
              "  <tbody>\n",
              "    <tr>\n",
              "      <th>0</th>\n",
              "      <td>44.255319</td>\n",
              "      <td>578.356287</td>\n",
              "      <td>0.380567</td>\n",
              "      <td>0.775433</td>\n",
              "      <td>892.145337</td>\n",
              "      <td>27.136435</td>\n",
              "      <td>40.826682</td>\n",
              "      <td>25.779193</td>\n",
              "      <td>125.667879</td>\n",
              "      <td>50.225669</td>\n",
              "      <td>...</td>\n",
              "      <td>[[False False  True False False False False Fa...</td>\n",
              "      <td>[array([[ 96,  97,  99,  95,  85,  93,  84,  8...</td>\n",
              "      <td>125.491598</td>\n",
              "      <td>0.678388</td>\n",
              "      <td>0.631430</td>\n",
              "      <td>0.648276</td>\n",
              "      <td>0.998597</td>\n",
              "      <td>210902_#1_50_10_1um_i004.tif</td>\n",
              "      <td>516.940327</td>\n",
              "      <td>0</td>\n",
              "    </tr>\n",
              "    <tr>\n",
              "      <th>1</th>\n",
              "      <td>13.791667</td>\n",
              "      <td>295.330870</td>\n",
              "      <td>0.500000</td>\n",
              "      <td>0.811877</td>\n",
              "      <td>393.774493</td>\n",
              "      <td>19.391414</td>\n",
              "      <td>28.140599</td>\n",
              "      <td>16.429302</td>\n",
              "      <td>84.262928</td>\n",
              "      <td>31.375727</td>\n",
              "      <td>...</td>\n",
              "      <td>[[False False False False False False False Fa...</td>\n",
              "      <td>[array([[111, 113, 106, 111, 114, 105,  89, 10...</td>\n",
              "      <td>74.766633</td>\n",
              "      <td>0.722974</td>\n",
              "      <td>0.583829</td>\n",
              "      <td>0.750000</td>\n",
              "      <td>0.887302</td>\n",
              "      <td>210902_#1_50_10_1um_i004.tif</td>\n",
              "      <td>263.969529</td>\n",
              "      <td>0</td>\n",
              "    </tr>\n",
              "    <tr>\n",
              "      <th>2</th>\n",
              "      <td>16.066667</td>\n",
              "      <td>276.872691</td>\n",
              "      <td>0.441176</td>\n",
              "      <td>0.951442</td>\n",
              "      <td>430.690852</td>\n",
              "      <td>18.775656</td>\n",
              "      <td>40.863839</td>\n",
              "      <td>12.579055</td>\n",
              "      <td>83.059202</td>\n",
              "      <td>42.240865</td>\n",
              "      <td>...</td>\n",
              "      <td>[[False False False False  True  True  True  T...</td>\n",
              "      <td>[array([[ 81,  83,  98,  93, 117, 114, 105,  9...</td>\n",
              "      <td>83.059202</td>\n",
              "      <td>0.710162</td>\n",
              "      <td>0.307829</td>\n",
              "      <td>0.642857</td>\n",
              "      <td>1.000000</td>\n",
              "      <td>210902_#1_50_10_1um_i004.tif</td>\n",
              "      <td>247.471433</td>\n",
              "      <td>0</td>\n",
              "    </tr>\n",
              "    <tr>\n",
              "      <th>3</th>\n",
              "      <td>34.584337</td>\n",
              "      <td>1021.352592</td>\n",
              "      <td>0.399038</td>\n",
              "      <td>0.834056</td>\n",
              "      <td>1839.665212</td>\n",
              "      <td>36.061427</td>\n",
              "      <td>63.447555</td>\n",
              "      <td>35.002771</td>\n",
              "      <td>232.166887</td>\n",
              "      <td>66.187168</td>\n",
              "      <td>...</td>\n",
              "      <td>[[False False False False False False False Fa...</td>\n",
              "      <td>[array([[101, 109, 100,  95, 109, 116, 116, 11...</td>\n",
              "      <td>175.189118</td>\n",
              "      <td>0.487969</td>\n",
              "      <td>0.551680</td>\n",
              "      <td>0.555184</td>\n",
              "      <td>0.754583</td>\n",
              "      <td>210902_#1_50_10_1um_i004.tif</td>\n",
              "      <td>912.894621</td>\n",
              "      <td>0</td>\n",
              "    </tr>\n",
              "    <tr>\n",
              "      <th>4</th>\n",
              "      <td>15.392857</td>\n",
              "      <td>344.552682</td>\n",
              "      <td>0.388889</td>\n",
              "      <td>0.870760</td>\n",
              "      <td>584.509014</td>\n",
              "      <td>20.945121</td>\n",
              "      <td>36.982017</td>\n",
              "      <td>18.184369</td>\n",
              "      <td>107.526452</td>\n",
              "      <td>39.996361</td>\n",
              "      <td>...</td>\n",
              "      <td>[[False False False False False False  True  T...</td>\n",
              "      <td>[array([[109, 109, 117, 110, 109,  98, 108, 11...</td>\n",
              "      <td>93.759223</td>\n",
              "      <td>0.611952</td>\n",
              "      <td>0.491708</td>\n",
              "      <td>0.589474</td>\n",
              "      <td>0.871964</td>\n",
              "      <td>210902_#1_50_10_1um_i004.tif</td>\n",
              "      <td>307.964450</td>\n",
              "      <td>0</td>\n",
              "    </tr>\n",
              "  </tbody>\n",
              "</table>\n",
              "<p>5 rows × 21 columns</p>\n",
              "</div>\n",
              "      <button class=\"colab-df-convert\" onclick=\"convertToInteractive('df-c6abebc3-3cd7-49fc-9a8b-fe653ec715fe')\"\n",
              "              title=\"Convert this dataframe to an interactive table.\"\n",
              "              style=\"display:none;\">\n",
              "        \n",
              "  <svg xmlns=\"http://www.w3.org/2000/svg\" height=\"24px\"viewBox=\"0 0 24 24\"\n",
              "       width=\"24px\">\n",
              "    <path d=\"M0 0h24v24H0V0z\" fill=\"none\"/>\n",
              "    <path d=\"M18.56 5.44l.94 2.06.94-2.06 2.06-.94-2.06-.94-.94-2.06-.94 2.06-2.06.94zm-11 1L8.5 8.5l.94-2.06 2.06-.94-2.06-.94L8.5 2.5l-.94 2.06-2.06.94zm10 10l.94 2.06.94-2.06 2.06-.94-2.06-.94-.94-2.06-.94 2.06-2.06.94z\"/><path d=\"M17.41 7.96l-1.37-1.37c-.4-.4-.92-.59-1.43-.59-.52 0-1.04.2-1.43.59L10.3 9.45l-7.72 7.72c-.78.78-.78 2.05 0 2.83L4 21.41c.39.39.9.59 1.41.59.51 0 1.02-.2 1.41-.59l7.78-7.78 2.81-2.81c.8-.78.8-2.07 0-2.86zM5.41 20L4 18.59l7.72-7.72 1.47 1.35L5.41 20z\"/>\n",
              "  </svg>\n",
              "      </button>\n",
              "      \n",
              "  <style>\n",
              "    .colab-df-container {\n",
              "      display:flex;\n",
              "      flex-wrap:wrap;\n",
              "      gap: 12px;\n",
              "    }\n",
              "\n",
              "    .colab-df-convert {\n",
              "      background-color: #E8F0FE;\n",
              "      border: none;\n",
              "      border-radius: 50%;\n",
              "      cursor: pointer;\n",
              "      display: none;\n",
              "      fill: #1967D2;\n",
              "      height: 32px;\n",
              "      padding: 0 0 0 0;\n",
              "      width: 32px;\n",
              "    }\n",
              "\n",
              "    .colab-df-convert:hover {\n",
              "      background-color: #E2EBFA;\n",
              "      box-shadow: 0px 1px 2px rgba(60, 64, 67, 0.3), 0px 1px 3px 1px rgba(60, 64, 67, 0.15);\n",
              "      fill: #174EA6;\n",
              "    }\n",
              "\n",
              "    [theme=dark] .colab-df-convert {\n",
              "      background-color: #3B4455;\n",
              "      fill: #D2E3FC;\n",
              "    }\n",
              "\n",
              "    [theme=dark] .colab-df-convert:hover {\n",
              "      background-color: #434B5C;\n",
              "      box-shadow: 0px 1px 3px 1px rgba(0, 0, 0, 0.15);\n",
              "      filter: drop-shadow(0px 1px 2px rgba(0, 0, 0, 0.3));\n",
              "      fill: #FFFFFF;\n",
              "    }\n",
              "  </style>\n",
              "\n",
              "      <script>\n",
              "        const buttonEl =\n",
              "          document.querySelector('#df-c6abebc3-3cd7-49fc-9a8b-fe653ec715fe button.colab-df-convert');\n",
              "        buttonEl.style.display =\n",
              "          google.colab.kernel.accessAllowed ? 'block' : 'none';\n",
              "\n",
              "        async function convertToInteractive(key) {\n",
              "          const element = document.querySelector('#df-c6abebc3-3cd7-49fc-9a8b-fe653ec715fe');\n",
              "          const dataTable =\n",
              "            await google.colab.kernel.invokeFunction('convertToInteractive',\n",
              "                                                     [key], {});\n",
              "          if (!dataTable) return;\n",
              "\n",
              "          const docLinkHtml = 'Like what you see? Visit the ' +\n",
              "            '<a target=\"_blank\" href=https://colab.research.google.com/notebooks/data_table.ipynb>data table notebook</a>'\n",
              "            + ' to learn more about interactive tables.';\n",
              "          element.innerHTML = '';\n",
              "          dataTable['output_type'] = 'display_data';\n",
              "          await google.colab.output.renderOutput(dataTable, element);\n",
              "          const docLink = document.createElement('div');\n",
              "          docLink.innerHTML = docLinkHtml;\n",
              "          element.appendChild(docLink);\n",
              "        }\n",
              "      </script>\n",
              "    </div>\n",
              "  </div>\n",
              "  "
            ]
          },
          "metadata": {},
          "execution_count": 3
        }
      ]
    },
    {
      "cell_type": "code",
      "source": [
        "skew = pd.DataFrame(df.select_dtypes(np.number).columns, columns=['Feature'])\n",
        "skew['skew'] = scipy.stats.skew(df.select_dtypes(np.number))\n",
        "skew['skew_abs'] = skew['skew'].apply(abs)\n",
        "skew['skewed'] = skew['skew_abs'].apply(lambda x: True if x>=0.5 else False)"
      ],
      "metadata": {
        "id": "67EMbOYrpOtp"
      },
      "execution_count": 5,
      "outputs": []
    },
    {
      "cell_type": "code",
      "source": [
        "from sklearn.model_selection import train_test_split\n",
        "from sklearn.preprocessing import StandardScaler\n",
        "\n",
        "def preprocessing(df):\n",
        "    temp = df[(df['equivalent_diameter']>0)].copy()\n",
        "    temp = temp[temp['filename']!= '210902_#9_150_30_1um_i005']\n",
        "    file_col = pd.DataFrame(columns=['filename'])\n",
        "    file_col['filename'] = temp['filename'].copy()\n",
        "    for column in skew.query('skewed == True')['Feature'].values:\n",
        "        temp[column] = np.log1p(temp[column])\n",
        "    y = temp['label']\n",
        "    X = temp.drop(['filename','label','image','convex_image','img'],axis=1)\n",
        "    X_df = X.copy()\n",
        "    scaler = StandardScaler()\n",
        "    columns_names = X.columns\n",
        "    X = scaler.fit_transform(X)\n",
        "    X_train,X_test,y_train,y_test = train_test_split(X,y,train_size=0.7,shuffle=True)\n",
        "    return X,y,X_train,X_test,y_train,y_test, file_col,columns_names,X_df\n",
        "X,y,X_train,X_test,y_train,y_test,file_col,columns_names,X_df = preprocessing(df)"
      ],
      "metadata": {
        "id": "w8PPSQlOo_vB"
      },
      "execution_count": 6,
      "outputs": []
    },
    {
      "cell_type": "code",
      "source": [
        "from sklearn.cluster import SpectralClustering, KMeans,AgglomerativeClustering,DBSCAN\n",
        "from sklearn.metrics import confusion_matrix, classification_report, accuracy_score,f1_score"
      ],
      "metadata": {
        "id": "SxoLlJs4pFXP"
      },
      "execution_count": 7,
      "outputs": []
    },
    {
      "cell_type": "code",
      "source": [
        "cluster_models = {\n",
        "    'Spectral Clustering':SpectralClustering(n_clusters=2,\n",
        "                            affinity='nearest_neighbors',\n",
        "                            assign_labels='kmeans',\n",
        "                            random_state=464\n",
        "                            ),\n",
        "    'Spectral Biclustering': KMeans(n_clusters=2),\n",
        "    'AgglomerativeClustering':AgglomerativeClustering(),\n",
        "    \"DBSCAN\":DBSCAN(eps=9.7, min_samples=2, algorithm='ball_tree', metric='minkowski', leaf_size=90, p=2)\n",
        "}\n",
        "\n",
        "cluster_score = []\n",
        "cluster_results = pd.DataFrame()\n",
        "cluster_results['true'] = y\n",
        "for name,cluster_model in cluster_models.items():\n",
        "    cluster_model.fit(X)\n",
        "    print(confusion_matrix(y,cluster_model.labels_))\n",
        "    cluster_score.append([name,accuracy_score(y,cluster_model.labels_)])\n",
        "    cluster_results[name] = cluster_model.labels_\n",
        "cluster_score = pd.DataFrame(cluster_score, columns=['model name', 'Accuracy'])\n",
        "cluster_score.sort_values('Accuracy',ascending=False)"
      ],
      "metadata": {
        "colab": {
          "base_uri": "https://localhost:8080/",
          "height": 368
        },
        "id": "2VmAIXeApSxW",
        "outputId": "01485802-913f-496b-e025-80e37d98c9c1"
      },
      "execution_count": 8,
      "outputs": [
        {
          "output_type": "stream",
          "name": "stdout",
          "text": [
            "[[1488 4437]\n",
            " [1649 4024]]\n"
          ]
        },
        {
          "output_type": "stream",
          "name": "stderr",
          "text": [
            "/usr/local/lib/python3.9/dist-packages/sklearn/cluster/_kmeans.py:870: FutureWarning: The default value of `n_init` will change from 10 to 'auto' in 1.4. Set the value of `n_init` explicitly to suppress the warning\n",
            "  warnings.warn(\n"
          ]
        },
        {
          "output_type": "stream",
          "name": "stdout",
          "text": [
            "[[1847 4078]\n",
            " [1896 3777]]\n",
            "[[2411 3514]\n",
            " [2240 3433]]\n",
            "[[5925    0]\n",
            " [5673    0]]\n"
          ]
        },
        {
          "output_type": "execute_result",
          "data": {
            "text/plain": [
              "                model name  Accuracy\n",
              "3                   DBSCAN  0.510864\n",
              "2  AgglomerativeClustering  0.503880\n",
              "1    Spectral Biclustering  0.484911\n",
              "0      Spectral Clustering  0.475254"
            ],
            "text/html": [
              "\n",
              "  <div id=\"df-0a3b4ec9-0877-476f-9b2f-7e44d27b4abe\">\n",
              "    <div class=\"colab-df-container\">\n",
              "      <div>\n",
              "<style scoped>\n",
              "    .dataframe tbody tr th:only-of-type {\n",
              "        vertical-align: middle;\n",
              "    }\n",
              "\n",
              "    .dataframe tbody tr th {\n",
              "        vertical-align: top;\n",
              "    }\n",
              "\n",
              "    .dataframe thead th {\n",
              "        text-align: right;\n",
              "    }\n",
              "</style>\n",
              "<table border=\"1\" class=\"dataframe\">\n",
              "  <thead>\n",
              "    <tr style=\"text-align: right;\">\n",
              "      <th></th>\n",
              "      <th>model name</th>\n",
              "      <th>Accuracy</th>\n",
              "    </tr>\n",
              "  </thead>\n",
              "  <tbody>\n",
              "    <tr>\n",
              "      <th>3</th>\n",
              "      <td>DBSCAN</td>\n",
              "      <td>0.510864</td>\n",
              "    </tr>\n",
              "    <tr>\n",
              "      <th>2</th>\n",
              "      <td>AgglomerativeClustering</td>\n",
              "      <td>0.503880</td>\n",
              "    </tr>\n",
              "    <tr>\n",
              "      <th>1</th>\n",
              "      <td>Spectral Biclustering</td>\n",
              "      <td>0.484911</td>\n",
              "    </tr>\n",
              "    <tr>\n",
              "      <th>0</th>\n",
              "      <td>Spectral Clustering</td>\n",
              "      <td>0.475254</td>\n",
              "    </tr>\n",
              "  </tbody>\n",
              "</table>\n",
              "</div>\n",
              "      <button class=\"colab-df-convert\" onclick=\"convertToInteractive('df-0a3b4ec9-0877-476f-9b2f-7e44d27b4abe')\"\n",
              "              title=\"Convert this dataframe to an interactive table.\"\n",
              "              style=\"display:none;\">\n",
              "        \n",
              "  <svg xmlns=\"http://www.w3.org/2000/svg\" height=\"24px\"viewBox=\"0 0 24 24\"\n",
              "       width=\"24px\">\n",
              "    <path d=\"M0 0h24v24H0V0z\" fill=\"none\"/>\n",
              "    <path d=\"M18.56 5.44l.94 2.06.94-2.06 2.06-.94-2.06-.94-.94-2.06-.94 2.06-2.06.94zm-11 1L8.5 8.5l.94-2.06 2.06-.94-2.06-.94L8.5 2.5l-.94 2.06-2.06.94zm10 10l.94 2.06.94-2.06 2.06-.94-2.06-.94-.94-2.06-.94 2.06-2.06.94z\"/><path d=\"M17.41 7.96l-1.37-1.37c-.4-.4-.92-.59-1.43-.59-.52 0-1.04.2-1.43.59L10.3 9.45l-7.72 7.72c-.78.78-.78 2.05 0 2.83L4 21.41c.39.39.9.59 1.41.59.51 0 1.02-.2 1.41-.59l7.78-7.78 2.81-2.81c.8-.78.8-2.07 0-2.86zM5.41 20L4 18.59l7.72-7.72 1.47 1.35L5.41 20z\"/>\n",
              "  </svg>\n",
              "      </button>\n",
              "      \n",
              "  <style>\n",
              "    .colab-df-container {\n",
              "      display:flex;\n",
              "      flex-wrap:wrap;\n",
              "      gap: 12px;\n",
              "    }\n",
              "\n",
              "    .colab-df-convert {\n",
              "      background-color: #E8F0FE;\n",
              "      border: none;\n",
              "      border-radius: 50%;\n",
              "      cursor: pointer;\n",
              "      display: none;\n",
              "      fill: #1967D2;\n",
              "      height: 32px;\n",
              "      padding: 0 0 0 0;\n",
              "      width: 32px;\n",
              "    }\n",
              "\n",
              "    .colab-df-convert:hover {\n",
              "      background-color: #E2EBFA;\n",
              "      box-shadow: 0px 1px 2px rgba(60, 64, 67, 0.3), 0px 1px 3px 1px rgba(60, 64, 67, 0.15);\n",
              "      fill: #174EA6;\n",
              "    }\n",
              "\n",
              "    [theme=dark] .colab-df-convert {\n",
              "      background-color: #3B4455;\n",
              "      fill: #D2E3FC;\n",
              "    }\n",
              "\n",
              "    [theme=dark] .colab-df-convert:hover {\n",
              "      background-color: #434B5C;\n",
              "      box-shadow: 0px 1px 3px 1px rgba(0, 0, 0, 0.15);\n",
              "      filter: drop-shadow(0px 1px 2px rgba(0, 0, 0, 0.3));\n",
              "      fill: #FFFFFF;\n",
              "    }\n",
              "  </style>\n",
              "\n",
              "      <script>\n",
              "        const buttonEl =\n",
              "          document.querySelector('#df-0a3b4ec9-0877-476f-9b2f-7e44d27b4abe button.colab-df-convert');\n",
              "        buttonEl.style.display =\n",
              "          google.colab.kernel.accessAllowed ? 'block' : 'none';\n",
              "\n",
              "        async function convertToInteractive(key) {\n",
              "          const element = document.querySelector('#df-0a3b4ec9-0877-476f-9b2f-7e44d27b4abe');\n",
              "          const dataTable =\n",
              "            await google.colab.kernel.invokeFunction('convertToInteractive',\n",
              "                                                     [key], {});\n",
              "          if (!dataTable) return;\n",
              "\n",
              "          const docLinkHtml = 'Like what you see? Visit the ' +\n",
              "            '<a target=\"_blank\" href=https://colab.research.google.com/notebooks/data_table.ipynb>data table notebook</a>'\n",
              "            + ' to learn more about interactive tables.';\n",
              "          element.innerHTML = '';\n",
              "          dataTable['output_type'] = 'display_data';\n",
              "          await google.colab.output.renderOutput(dataTable, element);\n",
              "          const docLink = document.createElement('div');\n",
              "          docLink.innerHTML = docLinkHtml;\n",
              "          element.appendChild(docLink);\n",
              "        }\n",
              "      </script>\n",
              "    </div>\n",
              "  </div>\n",
              "  "
            ]
          },
          "metadata": {},
          "execution_count": 8
        }
      ]
    },
    {
      "cell_type": "code",
      "source": [
        "def NN_model():\n",
        "    model = Sequential()\n",
        "    model.add(Dense(16,activation='relu'))\n",
        "    model.add(Dense(10,activation='relu'))\n",
        "    model.add(Dense(4,activation='relu'))\n",
        "    model.add(Dense(1,activation='sigmoid'))\n",
        "    model.compile(optimizer = 'adam',\n",
        "                loss='binary_crossentropy')\n",
        "    early_stop = EarlyStopping(monitor='val_loss', \n",
        "                            mode='min',\n",
        "                            verbose=1,\n",
        "                            patience=25)\n",
        "    return model\n",
        "y.value_counts()"
      ],
      "metadata": {
        "colab": {
          "base_uri": "https://localhost:8080/"
        },
        "id": "vHm12sjTpT5A",
        "outputId": "791a618f-ae03-493e-fd89-d8e1a037376c"
      },
      "execution_count": 10,
      "outputs": [
        {
          "output_type": "execute_result",
          "data": {
            "text/plain": [
              "0    5925\n",
              "1    5673\n",
              "Name: label, dtype: int64"
            ]
          },
          "metadata": {},
          "execution_count": 10
        }
      ]
    },
    {
      "cell_type": "code",
      "source": [
        "from tensorflow.keras.models import Sequential\n",
        "from tensorflow.keras.layers import Dense\n",
        "from tensorflow.keras.callbacks import EarlyStopping"
      ],
      "metadata": {
        "id": "c4sVikrGpfz9"
      },
      "execution_count": 11,
      "outputs": []
    },
    {
      "cell_type": "code",
      "source": [
        "model = Sequential()\n",
        "model.add(Dense(17,activation='relu'))\n",
        "model.add(Dense(10,activation='relu'))\n",
        "model.add(Dense(4,activation='relu'))\n",
        "model.add(Dense(1,activation='sigmoid'))\n",
        "model.compile(optimizer = 'adam',\n",
        "              loss='binary_crossentropy')\n",
        "early_stop = EarlyStopping(monitor='val_loss', \n",
        "                           mode='min',\n",
        "                           verbose=1,\n",
        "                           patience=25)"
      ],
      "metadata": {
        "id": "f-5rP7Vupik8"
      },
      "execution_count": 12,
      "outputs": []
    },
    {
      "cell_type": "code",
      "source": [
        "for i in range (10):\n",
        "    X,y,X_train,X_test,y_train,y_test,file_col,columns_names,X_df = preprocessing(df)\n",
        "    NN_model()\n",
        "    model.fit(X_train,\n",
        "          y_train,\n",
        "          epochs=250,\n",
        "          validation_data=(X_test,y_test),\n",
        "          callbacks=[early_stop],\n",
        "          verbose=0)\n",
        "    y_pred = pd.DataFrame((model.predict(X) > 0.5).astype(\"int32\"))\n",
        "    print(i,accuracy_score(y,y_pred))\n",
        "    print(confusion_matrix(y,y_pred))"
      ],
      "metadata": {
        "colab": {
          "base_uri": "https://localhost:8080/"
        },
        "id": "dO4Ssy_ZpjgM",
        "outputId": "4947a59a-24a8-4db2-ffde-bc048628a411"
      },
      "execution_count": 13,
      "outputs": [
        {
          "output_type": "stream",
          "name": "stdout",
          "text": [
            "Epoch 138: early stopping\n",
            "363/363 [==============================] - 1s 1ms/step\n",
            "0 0.9568891188135885\n",
            "[[5764  161]\n",
            " [ 339 5334]]\n",
            "Epoch 26: early stopping\n",
            "363/363 [==============================] - 1s 2ms/step\n",
            "1 0.9498189342990171\n",
            "[[5510  415]\n",
            " [ 167 5506]]\n",
            "Epoch 26: early stopping\n",
            "363/363 [==============================] - 0s 1ms/step\n",
            "2 0.9568891188135885\n",
            "[[5757  168]\n",
            " [ 332 5341]]\n",
            "Epoch 44: early stopping\n",
            "363/363 [==============================] - 0s 1ms/step\n",
            "3 0.9570615623383342\n",
            "[[5700  225]\n",
            " [ 273 5400]]\n",
            "Epoch 26: early stopping\n",
            "363/363 [==============================] - 0s 1ms/step\n",
            "4 0.9619762027935851\n",
            "[[5690  235]\n",
            " [ 206 5467]]\n",
            "Epoch 26: early stopping\n",
            "363/363 [==============================] - 1s 2ms/step\n",
            "5 0.9597344369718918\n",
            "[[5793  132]\n",
            " [ 335 5338]]\n",
            "Epoch 31: early stopping\n",
            "363/363 [==============================] - 0s 1ms/step\n",
            "6 0.9633557509915502\n",
            "[[5770  155]\n",
            " [ 270 5403]]\n",
            "Epoch 26: early stopping\n",
            "363/363 [==============================] - 1s 2ms/step\n",
            "7 0.9636144162786687\n",
            "[[5741  184]\n",
            " [ 238 5435]]\n",
            "Epoch 26: early stopping\n",
            "363/363 [==============================] - 0s 1ms/step\n",
            "8 0.9607690981203656\n",
            "[[5758  167]\n",
            " [ 288 5385]]\n",
            "Epoch 37: early stopping\n",
            "363/363 [==============================] - 0s 1ms/step\n",
            "9 0.9629246421796862\n",
            "[[5749  176]\n",
            " [ 254 5419]]\n"
          ]
        }
      ]
    },
    {
      "cell_type": "code",
      "source": [
        "model = Sequential()\n",
        "model.add(Dense(16,activation='relu'))\n",
        "model.add(Dense(4,activation='relu'))\n",
        "model.add(Dense(4,activation='relu'))\n",
        "model.add(Dense(1,activation='sigmoid'))\n",
        "model.compile(optimizer = 'adam',\n",
        "              loss='binary_crossentropy')\n",
        "early_stop = EarlyStopping(monitor='val_loss', \n",
        "                           mode='min',\n",
        "                           verbose=1,\n",
        "                           patience=25)\n",
        "\n",
        "model.fit(X_train,\n",
        "          y_train,\n",
        "          epochs=250,\n",
        "          validation_data=(X_test,y_test),\n",
        "          callbacks=[early_stop],\n",
        "          verbose=0)"
      ],
      "metadata": {
        "colab": {
          "base_uri": "https://localhost:8080/"
        },
        "id": "EC_KDyiiplLz",
        "outputId": "574f4891-53af-448a-d2ee-3603800df245"
      },
      "execution_count": 14,
      "outputs": [
        {
          "output_type": "stream",
          "name": "stdout",
          "text": [
            "Epoch 174: early stopping\n"
          ]
        },
        {
          "output_type": "execute_result",
          "data": {
            "text/plain": [
              "<keras.callbacks.History at 0x7f0ea1101d00>"
            ]
          },
          "metadata": {},
          "execution_count": 14
        }
      ]
    },
    {
      "cell_type": "code",
      "source": [
        "history = pd.DataFrame(model.history.history)\n",
        "plt.plot(history)\n",
        "plt.ylabel('Binary Cross-entropy')\n",
        "plt.xlabel('Epoch')\n",
        "plt.gca().legend(('training loss','validation loss'))"
      ],
      "metadata": {
        "colab": {
          "base_uri": "https://localhost:8080/",
          "height": 466
        },
        "id": "_hmCQD-dpqIK",
        "outputId": "404659f3-43ac-440c-8f8b-1356f8eb033d"
      },
      "execution_count": 15,
      "outputs": [
        {
          "output_type": "execute_result",
          "data": {
            "text/plain": [
              "<matplotlib.legend.Legend at 0x7f0ea1196ca0>"
            ]
          },
          "metadata": {},
          "execution_count": 15
        },
        {
          "output_type": "display_data",
          "data": {
            "text/plain": [
              "<Figure size 640x480 with 1 Axes>"
            ],
            "image/png": "[encoded data removed]"
          },
          "metadata": {}
        }
      ]
    },
    {
      "cell_type": "code",
      "source": [
        "y_pred = model.predict(X_test)\n",
        "y_pred = pd.DataFrame((model.predict(X_test) > 0.5).astype(\"int32\"))\n",
        "print(accuracy_score(y_test, y_pred))\n",
        "print(confusion_matrix(y_test, y_pred)) \n",
        "print('F1 Score: %.3f' % f1_score(y_test, y_pred))\n",
        "print(classification_report(y_test, y_pred))"
      ],
      "metadata": {
        "colab": {
          "base_uri": "https://localhost:8080/"
        },
        "id": "J5xOKsoqprJc",
        "outputId": "24aaa75c-e666-4d0d-a892-d556dd5e5066"
      },
      "execution_count": 16,
      "outputs": [
        {
          "output_type": "stream",
          "name": "stdout",
          "text": [
            "109/109 [==============================] - 0s 1ms/step\n",
            "109/109 [==============================] - 0s 1ms/step\n",
            "0.9459770114942528\n",
            "[[1686   79]\n",
            " [ 109 1606]]\n",
            "F1 Score: 0.945\n",
            "              precision    recall  f1-score   support\n",
            "\n",
            "           0       0.94      0.96      0.95      1765\n",
            "           1       0.95      0.94      0.94      1715\n",
            "\n",
            "    accuracy                           0.95      3480\n",
            "   macro avg       0.95      0.95      0.95      3480\n",
            "weighted avg       0.95      0.95      0.95      3480\n",
            "\n"
          ]
        }
      ]
    },
    {
      "cell_type": "code",
      "source": [],
      "metadata": {
        "id": "VOFhwMaqpsMw"
      },
      "execution_count": null,
      "outputs": []
    }
  ]
}